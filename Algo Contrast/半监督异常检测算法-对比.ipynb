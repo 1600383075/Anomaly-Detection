{
 "cells": [
  {
   "cell_type": "markdown",
   "metadata": {},
   "source": [
    "- **Author：** 马肖\n",
    "- **E-Mail：** maxiaoscut@aliyun.com\n",
    "- **GitHub：**  https://github.com/Albertsr"
   ]
  },
  {
   "cell_type": "code",
   "execution_count": 1,
   "metadata": {},
   "outputs": [],
   "source": [
    "import time\n",
    "import numpy as np  \n",
    "import pandas as pd\n",
    "\n",
    "from ADOA_final import ADOA\n",
    "from pu_learning import PU_Learning as pul\n",
    "\n",
    "from xgboost import XGBClassifier\n",
    "from sklearn.ensemble import RandomForestClassifier\n",
    "from sklearn.metrics import *"
   ]
  },
  {
   "cell_type": "code",
   "execution_count": 2,
   "metadata": {},
   "outputs": [],
   "source": [
    "# 函数generate_pudata用于生成适用于PU_Learning的数据集\n",
    "# 参数seed为随机数种子，positive_size表示P集在整个数据集中的占比\n",
    "\n",
    "def generate_pudata(seed, positive_size=0.25):\n",
    "    rdg = np.random.RandomState(seed)  \n",
    "    # row, col分别为数据集的行数与列数\n",
    "    row = rdg.randint(8000, 10000)\n",
    "    col = rdg.randint(30, 35)\n",
    "    \n",
    "    # contamination为U集中正样本的占比\n",
    "    contamination = rdg.uniform(0.025, 0.035)\n",
    "    \n",
    "    # p_num、u_num分别为P集、U集包含的样本数\n",
    "    p_num = int(np.ceil(row * positive_size))\n",
    "    u_num = row - p_num\n",
    "    \n",
    "    # pos_u_num为U集中包含的正样本数\n",
    "    pos_u_num = int(np.ceil(u_num * contamination))\n",
    "    # 将异常样本分为3个簇，分别服从卡方分布，标准伽马分布，指数分布\n",
    "    pos_num = p_num + pos_u_num\n",
    "    row_sub = pos_num // 3\n",
    "    \n",
    "    anomalies_1 = rdg.chisquare(1, size=(row_sub, col))\n",
    "    anomalies_2 = rdg.standard_gamma(3, size=(row_sub, col))\n",
    "    anomalies_3 = rdg.exponential(5, size=(row_sub, col))\n",
    "    anomalies_ = np.r_[anomalies_1, anomalies_2, anomalies_3]\n",
    "    \n",
    "    rd_indices = rdg.permutation(len(anomalies_))\n",
    "    anomalies_U = anomalies_[rd_indices[:pos_u_num]]\n",
    "    \n",
    "    # 生成最终的正样本集，由观测到的anomalies构成\n",
    "    P = anomalies_[rd_indices[pos_u_num:]]\n",
    "    \n",
    "    # 生成最终的无标签样本集，其中包含contamination比例的正样本\n",
    "    U_neg = rdg.normal(loc=2, scale=1.5, size=(u_num-pos_u_num, col))   \n",
    "    U = np.r_[U_neg, anomalies_U]\n",
    "    U_label = np.r_[np.zeros(len(U_neg)), np.ones(len(anomalies_U))]\n",
    "    return P, U, U_label"
   ]
  },
  {
   "cell_type": "code",
   "execution_count": 3,
   "metadata": {},
   "outputs": [],
   "source": [
    "rf = RandomForestClassifier(n_estimators=350, max_depth=6, random_state=2018)\n",
    "xgb = XGBClassifier(n_estimators=350, max_depth=6, learning_rate=0.15)"
   ]
  },
  {
   "cell_type": "code",
   "execution_count": 4,
   "metadata": {},
   "outputs": [],
   "source": [
    "def model_perfomance(y_pred, y_prob, y_true):\n",
    "    auc = roc_auc_score(y_true, y_prob)\n",
    "    f_score = f1_score(y_true, y_pred)\n",
    "    recall = recall_score(y_true, y_pred)\n",
    "    precision = precision_score(y_true, y_pred)\n",
    "    gmean = np.sqrt(recall * precision)\n",
    "    acc = accuracy_score(y_true, y_pred)\n",
    "    performance = [auc, f_score, gmean, recall, acc]\n",
    "    return np.array(performance)"
   ]
  },
  {
   "cell_type": "code",
   "execution_count": 5,
   "metadata": {
    "scrolled": true
   },
   "outputs": [],
   "source": [
    "def performance_contrast(seed, Cminus=1, Cplus=1.5, clf_one=xgb, clf_two=rf):\n",
    "    start = time.time()\n",
    "    P, U, U_label = generate_pudata(seed)\n",
    "    print('Seed:{:}, P Shape:{:}, U Shape:{:}'.format(seed, P.shape, U.shape))\n",
    "    adoa = ADOA(P, U)\n",
    "    X_train, y_train, weights = adoa.weighted_trainset()\n",
    "    clf_one.fit(X_train, y_train, sample_weight=weights)\n",
    "    y_pred = clf_one.predict(U)\n",
    "    y_prob = clf_one.predict_proba(U)[:, -1]\n",
    "    adoa_performance = model_perfomance(y_pred, y_prob, U_label)\n",
    "\n",
    "    pul_csl= pul(P, U, Cminus=Cminus, Cplus=Cplus, clf_one=clf_one, clf_two=clf_two, over_sample=False)\n",
    "    y_pred, y_prob = pul_csl.predict()\n",
    "    pul_csl_performance = model_perfomance(y_pred, y_prob, U_label)\n",
    "\n",
    "    pul_oversampled = pul(P, U, Cminus=1, Cplus=1, clf_one=clf_one, clf_two=clf_two, over_sample=True)\n",
    "    y_pred, y_prob = pul_oversampled.predict()\n",
    "    pul_sampled_performance = model_perfomance(y_pred, y_prob, U_label)\n",
    "\n",
    "    metrics = ['AUC', 'F1_Score', 'G_Mean', 'Recall', 'ACC']\n",
    "    models = ['ADOA', 'PUL OverSampled', 'PUL CostSensitive']\n",
    "    list_ = [adoa_performance, pul_sampled_performance, pul_csl_performance]\n",
    "    performance = pd.DataFrame(list_, columns=metrics, index=models)\n",
    "    \n",
    "    decription = 'The evaluation of the algorithm has been completed.'\n",
    "    print(decription, 'Running_Time:{:.2f}s\\n'.format(time.time()-start))\n",
    "    return performance"
   ]
  },
  {
   "cell_type": "code",
   "execution_count": 6,
   "metadata": {},
   "outputs": [
    {
     "name": "stdout",
     "output_type": "stream",
     "text": [
      "Seed:2018, P Shape:(2319, 32), U Shape:(6955, 32)\n",
      "The evaluation of the algorithm has been completed. Running_Time:64.80s\n",
      "\n"
     ]
    },
    {
     "data": {
      "text/html": [
       "<style  type=\"text/css\" >\n",
       "    #T_525eb5b8_197a_11e9_8007_54e1ad990481row0_col0 {\n",
       "            background-color:  yellow;\n",
       "        }    #T_525eb5b8_197a_11e9_8007_54e1ad990481row0_col1 {\n",
       "            background-color:  yellow;\n",
       "        }    #T_525eb5b8_197a_11e9_8007_54e1ad990481row0_col2 {\n",
       "            background-color:  yellow;\n",
       "        }    #T_525eb5b8_197a_11e9_8007_54e1ad990481row0_col3 {\n",
       "            background-color:  yellow;\n",
       "        }    #T_525eb5b8_197a_11e9_8007_54e1ad990481row2_col4 {\n",
       "            background-color:  yellow;\n",
       "        }</style>  \n",
       "<table id=\"T_525eb5b8_197a_11e9_8007_54e1ad990481\" > \n",
       "<thead>    <tr> \n",
       "        <th class=\"blank level0\" ></th> \n",
       "        <th class=\"col_heading level0 col0\" >AUC</th> \n",
       "        <th class=\"col_heading level0 col1\" >F1_Score</th> \n",
       "        <th class=\"col_heading level0 col2\" >G_Mean</th> \n",
       "        <th class=\"col_heading level0 col3\" >Recall</th> \n",
       "        <th class=\"col_heading level0 col4\" >ACC</th> \n",
       "    </tr></thead> \n",
       "<tbody>    <tr> \n",
       "        <th id=\"T_525eb5b8_197a_11e9_8007_54e1ad990481level0_row0\" class=\"row_heading level0 row0\" >ADOA</th> \n",
       "        <td id=\"T_525eb5b8_197a_11e9_8007_54e1ad990481row0_col0\" class=\"data row0 col0\" >0.987684</td> \n",
       "        <td id=\"T_525eb5b8_197a_11e9_8007_54e1ad990481row0_col1\" class=\"data row0 col1\" >0.708861</td> \n",
       "        <td id=\"T_525eb5b8_197a_11e9_8007_54e1ad990481row0_col2\" class=\"data row0 col2\" >0.730297</td> \n",
       "        <td id=\"T_525eb5b8_197a_11e9_8007_54e1ad990481row0_col3\" class=\"data row0 col3\" >0.933333</td> \n",
       "        <td id=\"T_525eb5b8_197a_11e9_8007_54e1ad990481row0_col4\" class=\"data row0 col4\" >0.973544</td> \n",
       "    </tr>    <tr> \n",
       "        <th id=\"T_525eb5b8_197a_11e9_8007_54e1ad990481level0_row1\" class=\"row_heading level0 row1\" >PUL OverSampled</th> \n",
       "        <td id=\"T_525eb5b8_197a_11e9_8007_54e1ad990481row1_col0\" class=\"data row1 col0\" >0.849512</td> \n",
       "        <td id=\"T_525eb5b8_197a_11e9_8007_54e1ad990481row1_col1\" class=\"data row1 col1\" >0.523901</td> \n",
       "        <td id=\"T_525eb5b8_197a_11e9_8007_54e1ad990481row1_col2\" class=\"data row1 col2\" >0.52568</td> \n",
       "        <td id=\"T_525eb5b8_197a_11e9_8007_54e1ad990481row1_col3\" class=\"data row1 col3\" >0.570833</td> \n",
       "        <td id=\"T_525eb5b8_197a_11e9_8007_54e1ad990481row1_col4\" class=\"data row1 col4\" >0.964198</td> \n",
       "    </tr>    <tr> \n",
       "        <th id=\"T_525eb5b8_197a_11e9_8007_54e1ad990481level0_row2\" class=\"row_heading level0 row2\" >PUL CostSensitive</th> \n",
       "        <td id=\"T_525eb5b8_197a_11e9_8007_54e1ad990481row2_col0\" class=\"data row2 col0\" >0.950511</td> \n",
       "        <td id=\"T_525eb5b8_197a_11e9_8007_54e1ad990481row2_col1\" class=\"data row2 col1\" >0.61708</td> \n",
       "        <td id=\"T_525eb5b8_197a_11e9_8007_54e1ad990481row2_col2\" class=\"data row2 col2\" >0.651868</td> \n",
       "        <td id=\"T_525eb5b8_197a_11e9_8007_54e1ad990481row2_col3\" class=\"data row2 col3\" >0.466667</td> \n",
       "        <td id=\"T_525eb5b8_197a_11e9_8007_54e1ad990481row2_col4\" class=\"data row2 col4\" >0.980014</td> \n",
       "    </tr></tbody> \n",
       "</table> "
      ],
      "text/plain": [
       "<pandas.io.formats.style.Styler at 0x28f8619e2b0>"
      ]
     },
     "execution_count": 6,
     "metadata": {},
     "output_type": "execute_result"
    }
   ],
   "source": [
    "# 对最高的分数予以标黄，仅适用于Jupyter\n",
    "def highlight_max(s):\n",
    "    is_max = s == s.max() \n",
    "    bg = ['background-color: yellow' if v else '' for v in is_max]\n",
    "    return bg\n",
    "\n",
    "performance_contrast(2018).style.apply(highlight_max, axis=0)"
   ]
  },
  {
   "cell_type": "code",
   "execution_count": 7,
   "metadata": {},
   "outputs": [],
   "source": [
    "def return_algo(seed):\n",
    "    contrast = performance_contrast(seed)\n",
    "    algorithms = [contrast[i].idxmax() for i in contrast.columns]\n",
    "    return np.array(algorithms)"
   ]
  },
  {
   "cell_type": "code",
   "execution_count": 8,
   "metadata": {
    "scrolled": false
   },
   "outputs": [
    {
     "name": "stdout",
     "output_type": "stream",
     "text": [
      "Seed:409, P Shape:(2475, 34), U Shape:(7424, 34)\n",
      "The evaluation of the algorithm has been completed. Running_Time:66.43s\n",
      "\n",
      "Seed:688, P Shape:(2363, 33), U Shape:(7092, 33)\n",
      "The evaluation of the algorithm has been completed. Running_Time:61.00s\n",
      "\n",
      "Seed:640, P Shape:(2413, 34), U Shape:(7236, 34)\n",
      "The evaluation of the algorithm has been completed. Running_Time:63.29s\n",
      "\n",
      "Seed:175, P Shape:(2069, 34), U Shape:(6207, 34)\n",
      "The evaluation of the algorithm has been completed. Running_Time:53.27s\n",
      "\n",
      "Seed:656, P Shape:(2298, 30), U Shape:(6896, 30)\n",
      "The evaluation of the algorithm has been completed. Running_Time:56.24s\n",
      "\n",
      "Seed:945, P Shape:(2423, 34), U Shape:(7275, 34)\n",
      "The evaluation of the algorithm has been completed. Running_Time:61.61s\n",
      "\n",
      "Seed:638, P Shape:(2097, 34), U Shape:(6297, 34)\n",
      "The evaluation of the algorithm has been completed. Running_Time:54.00s\n",
      "\n",
      "Seed:183, P Shape:(2072, 34), U Shape:(6219, 34)\n",
      "The evaluation of the algorithm has been completed. Running_Time:52.75s\n",
      "\n",
      "Seed:223, P Shape:(2118, 31), U Shape:(6358, 31)\n",
      "The evaluation of the algorithm has been completed. Running_Time:51.49s\n",
      "\n",
      "Seed:948, P Shape:(2202, 30), U Shape:(6606, 30)\n",
      "The evaluation of the algorithm has been completed. Running_Time:53.66s\n",
      "\n"
     ]
    }
   ],
   "source": [
    "seeds = np.random.RandomState(2018).choice(range(1000), size=10, replace=False)\n",
    "indices_sorted = list(map(return_algo, seeds))\n",
    "index = ['Dataset_' + str(i) for i in range(len(seeds))]\n",
    "algo_sorted = pd.DataFrame(indices_sorted, index=index)\n",
    "algo_sorted.index.name = 'VerifyData'"
   ]
  },
  {
   "cell_type": "code",
   "execution_count": 9,
   "metadata": {},
   "outputs": [
    {
     "data": {
      "text/html": [
       "<div>\n",
       "<style scoped>\n",
       "    .dataframe tbody tr th:only-of-type {\n",
       "        vertical-align: middle;\n",
       "    }\n",
       "\n",
       "    .dataframe tbody tr th {\n",
       "        vertical-align: top;\n",
       "    }\n",
       "\n",
       "    .dataframe thead th {\n",
       "        text-align: right;\n",
       "    }\n",
       "</style>\n",
       "<table border=\"1\" class=\"dataframe\">\n",
       "  <thead>\n",
       "    <tr style=\"text-align: right;\">\n",
       "      <th></th>\n",
       "      <th>0</th>\n",
       "      <th>1</th>\n",
       "      <th>2</th>\n",
       "      <th>3</th>\n",
       "      <th>4</th>\n",
       "    </tr>\n",
       "  </thead>\n",
       "  <tbody>\n",
       "    <tr>\n",
       "      <th>0</th>\n",
       "      <td>ADOA</td>\n",
       "      <td>ADOA</td>\n",
       "      <td>ADOA</td>\n",
       "      <td>ADOA</td>\n",
       "      <td>PUL CostSensitive</td>\n",
       "    </tr>\n",
       "  </tbody>\n",
       "</table>\n",
       "</div>"
      ],
      "text/plain": [
       "      0     1     2     3                  4\n",
       "0  ADOA  ADOA  ADOA  ADOA  PUL CostSensitive"
      ]
     },
     "execution_count": 9,
     "metadata": {},
     "output_type": "execute_result"
    }
   ],
   "source": [
    "sorted_algo = algo_sorted.copy()\n",
    "mode = sorted_algo.mode(axis=0)\n",
    "mode"
   ]
  },
  {
   "cell_type": "code",
   "execution_count": 10,
   "metadata": {},
   "outputs": [],
   "source": [
    "def revise_mode(mode):\n",
    "    target_idx = mode.notnull().sum().idxmax()\n",
    "    target_col = mode.iloc[:, target_idx]\n",
    "    \n",
    "    # 去掉first_row中在target_idx索引处的值，成为first_row_trimmed\n",
    "    first_row = mode.iloc[0, :] \n",
    "    cond = np.isin(first_row.index, target_idx, invert=True)\n",
    "    first_row_trimmed = first_row[cond]\n",
    "    \n",
    "    # target_col内元素不在first_row_trimmed之内，则保留，否则删除\n",
    "    cond = np.isin(target_col, first_row_trimmed, invert=True)\n",
    "    target_idx_mode = target_col[cond].values[0]\n",
    "    \n",
    "    first_row[target_idx] = target_idx_mode\n",
    "    return first_row.values"
   ]
  },
  {
   "cell_type": "code",
   "execution_count": 11,
   "metadata": {
    "scrolled": false
   },
   "outputs": [
    {
     "data": {
      "text/html": [
       "<style  type=\"text/css\" >\n",
       "    #T_a873069a_197b_11e9_9e60_54e1ad990481row10_col0 {\n",
       "            background-color:  yellow;\n",
       "        }    #T_a873069a_197b_11e9_9e60_54e1ad990481row10_col1 {\n",
       "            background-color:  yellow;\n",
       "        }    #T_a873069a_197b_11e9_9e60_54e1ad990481row10_col2 {\n",
       "            background-color:  yellow;\n",
       "        }    #T_a873069a_197b_11e9_9e60_54e1ad990481row10_col3 {\n",
       "            background-color:  yellow;\n",
       "        }    #T_a873069a_197b_11e9_9e60_54e1ad990481row10_col4 {\n",
       "            background-color:  yellow;\n",
       "        }</style>  \n",
       "<table id=\"T_a873069a_197b_11e9_9e60_54e1ad990481\" > \n",
       "<thead>    <tr> \n",
       "        <th class=\"blank level0\" ></th> \n",
       "        <th class=\"col_heading level0 col0\" >AUC</th> \n",
       "        <th class=\"col_heading level0 col1\" >F1_Score</th> \n",
       "        <th class=\"col_heading level0 col2\" >G_Mean</th> \n",
       "        <th class=\"col_heading level0 col3\" >Recall</th> \n",
       "        <th class=\"col_heading level0 col4\" >ACC</th> \n",
       "    </tr>    <tr> \n",
       "        <th class=\"index_name level0\" >VerifyData</th> \n",
       "        <th class=\"blank\" ></th> \n",
       "        <th class=\"blank\" ></th> \n",
       "        <th class=\"blank\" ></th> \n",
       "        <th class=\"blank\" ></th> \n",
       "        <th class=\"blank\" ></th> \n",
       "    </tr></thead> \n",
       "<tbody>    <tr> \n",
       "        <th id=\"T_a873069a_197b_11e9_9e60_54e1ad990481level0_row0\" class=\"row_heading level0 row0\" >Dataset_0</th> \n",
       "        <td id=\"T_a873069a_197b_11e9_9e60_54e1ad990481row0_col0\" class=\"data row0 col0\" >ADOA</td> \n",
       "        <td id=\"T_a873069a_197b_11e9_9e60_54e1ad990481row0_col1\" class=\"data row0 col1\" >ADOA</td> \n",
       "        <td id=\"T_a873069a_197b_11e9_9e60_54e1ad990481row0_col2\" class=\"data row0 col2\" >ADOA</td> \n",
       "        <td id=\"T_a873069a_197b_11e9_9e60_54e1ad990481row0_col3\" class=\"data row0 col3\" >ADOA</td> \n",
       "        <td id=\"T_a873069a_197b_11e9_9e60_54e1ad990481row0_col4\" class=\"data row0 col4\" >PUL CostSensitive</td> \n",
       "    </tr>    <tr> \n",
       "        <th id=\"T_a873069a_197b_11e9_9e60_54e1ad990481level0_row1\" class=\"row_heading level0 row1\" >Dataset_1</th> \n",
       "        <td id=\"T_a873069a_197b_11e9_9e60_54e1ad990481row1_col0\" class=\"data row1 col0\" >ADOA</td> \n",
       "        <td id=\"T_a873069a_197b_11e9_9e60_54e1ad990481row1_col1\" class=\"data row1 col1\" >ADOA</td> \n",
       "        <td id=\"T_a873069a_197b_11e9_9e60_54e1ad990481row1_col2\" class=\"data row1 col2\" >ADOA</td> \n",
       "        <td id=\"T_a873069a_197b_11e9_9e60_54e1ad990481row1_col3\" class=\"data row1 col3\" >ADOA</td> \n",
       "        <td id=\"T_a873069a_197b_11e9_9e60_54e1ad990481row1_col4\" class=\"data row1 col4\" >PUL CostSensitive</td> \n",
       "    </tr>    <tr> \n",
       "        <th id=\"T_a873069a_197b_11e9_9e60_54e1ad990481level0_row2\" class=\"row_heading level0 row2\" >Dataset_2</th> \n",
       "        <td id=\"T_a873069a_197b_11e9_9e60_54e1ad990481row2_col0\" class=\"data row2 col0\" >ADOA</td> \n",
       "        <td id=\"T_a873069a_197b_11e9_9e60_54e1ad990481row2_col1\" class=\"data row2 col1\" >ADOA</td> \n",
       "        <td id=\"T_a873069a_197b_11e9_9e60_54e1ad990481row2_col2\" class=\"data row2 col2\" >ADOA</td> \n",
       "        <td id=\"T_a873069a_197b_11e9_9e60_54e1ad990481row2_col3\" class=\"data row2 col3\" >ADOA</td> \n",
       "        <td id=\"T_a873069a_197b_11e9_9e60_54e1ad990481row2_col4\" class=\"data row2 col4\" >PUL CostSensitive</td> \n",
       "    </tr>    <tr> \n",
       "        <th id=\"T_a873069a_197b_11e9_9e60_54e1ad990481level0_row3\" class=\"row_heading level0 row3\" >Dataset_3</th> \n",
       "        <td id=\"T_a873069a_197b_11e9_9e60_54e1ad990481row3_col0\" class=\"data row3 col0\" >ADOA</td> \n",
       "        <td id=\"T_a873069a_197b_11e9_9e60_54e1ad990481row3_col1\" class=\"data row3 col1\" >PUL CostSensitive</td> \n",
       "        <td id=\"T_a873069a_197b_11e9_9e60_54e1ad990481row3_col2\" class=\"data row3 col2\" >PUL CostSensitive</td> \n",
       "        <td id=\"T_a873069a_197b_11e9_9e60_54e1ad990481row3_col3\" class=\"data row3 col3\" >ADOA</td> \n",
       "        <td id=\"T_a873069a_197b_11e9_9e60_54e1ad990481row3_col4\" class=\"data row3 col4\" >PUL CostSensitive</td> \n",
       "    </tr>    <tr> \n",
       "        <th id=\"T_a873069a_197b_11e9_9e60_54e1ad990481level0_row4\" class=\"row_heading level0 row4\" >Dataset_4</th> \n",
       "        <td id=\"T_a873069a_197b_11e9_9e60_54e1ad990481row4_col0\" class=\"data row4 col0\" >ADOA</td> \n",
       "        <td id=\"T_a873069a_197b_11e9_9e60_54e1ad990481row4_col1\" class=\"data row4 col1\" >PUL CostSensitive</td> \n",
       "        <td id=\"T_a873069a_197b_11e9_9e60_54e1ad990481row4_col2\" class=\"data row4 col2\" >PUL CostSensitive</td> \n",
       "        <td id=\"T_a873069a_197b_11e9_9e60_54e1ad990481row4_col3\" class=\"data row4 col3\" >ADOA</td> \n",
       "        <td id=\"T_a873069a_197b_11e9_9e60_54e1ad990481row4_col4\" class=\"data row4 col4\" >PUL CostSensitive</td> \n",
       "    </tr>    <tr> \n",
       "        <th id=\"T_a873069a_197b_11e9_9e60_54e1ad990481level0_row5\" class=\"row_heading level0 row5\" >Dataset_5</th> \n",
       "        <td id=\"T_a873069a_197b_11e9_9e60_54e1ad990481row5_col0\" class=\"data row5 col0\" >ADOA</td> \n",
       "        <td id=\"T_a873069a_197b_11e9_9e60_54e1ad990481row5_col1\" class=\"data row5 col1\" >ADOA</td> \n",
       "        <td id=\"T_a873069a_197b_11e9_9e60_54e1ad990481row5_col2\" class=\"data row5 col2\" >ADOA</td> \n",
       "        <td id=\"T_a873069a_197b_11e9_9e60_54e1ad990481row5_col3\" class=\"data row5 col3\" >ADOA</td> \n",
       "        <td id=\"T_a873069a_197b_11e9_9e60_54e1ad990481row5_col4\" class=\"data row5 col4\" >PUL CostSensitive</td> \n",
       "    </tr>    <tr> \n",
       "        <th id=\"T_a873069a_197b_11e9_9e60_54e1ad990481level0_row6\" class=\"row_heading level0 row6\" >Dataset_6</th> \n",
       "        <td id=\"T_a873069a_197b_11e9_9e60_54e1ad990481row6_col0\" class=\"data row6 col0\" >ADOA</td> \n",
       "        <td id=\"T_a873069a_197b_11e9_9e60_54e1ad990481row6_col1\" class=\"data row6 col1\" >ADOA</td> \n",
       "        <td id=\"T_a873069a_197b_11e9_9e60_54e1ad990481row6_col2\" class=\"data row6 col2\" >ADOA</td> \n",
       "        <td id=\"T_a873069a_197b_11e9_9e60_54e1ad990481row6_col3\" class=\"data row6 col3\" >ADOA</td> \n",
       "        <td id=\"T_a873069a_197b_11e9_9e60_54e1ad990481row6_col4\" class=\"data row6 col4\" >PUL CostSensitive</td> \n",
       "    </tr>    <tr> \n",
       "        <th id=\"T_a873069a_197b_11e9_9e60_54e1ad990481level0_row7\" class=\"row_heading level0 row7\" >Dataset_7</th> \n",
       "        <td id=\"T_a873069a_197b_11e9_9e60_54e1ad990481row7_col0\" class=\"data row7 col0\" >ADOA</td> \n",
       "        <td id=\"T_a873069a_197b_11e9_9e60_54e1ad990481row7_col1\" class=\"data row7 col1\" >ADOA</td> \n",
       "        <td id=\"T_a873069a_197b_11e9_9e60_54e1ad990481row7_col2\" class=\"data row7 col2\" >ADOA</td> \n",
       "        <td id=\"T_a873069a_197b_11e9_9e60_54e1ad990481row7_col3\" class=\"data row7 col3\" >ADOA</td> \n",
       "        <td id=\"T_a873069a_197b_11e9_9e60_54e1ad990481row7_col4\" class=\"data row7 col4\" >PUL CostSensitive</td> \n",
       "    </tr>    <tr> \n",
       "        <th id=\"T_a873069a_197b_11e9_9e60_54e1ad990481level0_row8\" class=\"row_heading level0 row8\" >Dataset_8</th> \n",
       "        <td id=\"T_a873069a_197b_11e9_9e60_54e1ad990481row8_col0\" class=\"data row8 col0\" >ADOA</td> \n",
       "        <td id=\"T_a873069a_197b_11e9_9e60_54e1ad990481row8_col1\" class=\"data row8 col1\" >PUL CostSensitive</td> \n",
       "        <td id=\"T_a873069a_197b_11e9_9e60_54e1ad990481row8_col2\" class=\"data row8 col2\" >PUL CostSensitive</td> \n",
       "        <td id=\"T_a873069a_197b_11e9_9e60_54e1ad990481row8_col3\" class=\"data row8 col3\" >ADOA</td> \n",
       "        <td id=\"T_a873069a_197b_11e9_9e60_54e1ad990481row8_col4\" class=\"data row8 col4\" >PUL CostSensitive</td> \n",
       "    </tr>    <tr> \n",
       "        <th id=\"T_a873069a_197b_11e9_9e60_54e1ad990481level0_row9\" class=\"row_heading level0 row9\" >Dataset_9</th> \n",
       "        <td id=\"T_a873069a_197b_11e9_9e60_54e1ad990481row9_col0\" class=\"data row9 col0\" >ADOA</td> \n",
       "        <td id=\"T_a873069a_197b_11e9_9e60_54e1ad990481row9_col1\" class=\"data row9 col1\" >PUL CostSensitive</td> \n",
       "        <td id=\"T_a873069a_197b_11e9_9e60_54e1ad990481row9_col2\" class=\"data row9 col2\" >PUL CostSensitive</td> \n",
       "        <td id=\"T_a873069a_197b_11e9_9e60_54e1ad990481row9_col3\" class=\"data row9 col3\" >ADOA</td> \n",
       "        <td id=\"T_a873069a_197b_11e9_9e60_54e1ad990481row9_col4\" class=\"data row9 col4\" >PUL CostSensitive</td> \n",
       "    </tr>    <tr> \n",
       "        <th id=\"T_a873069a_197b_11e9_9e60_54e1ad990481level0_row10\" class=\"row_heading level0 row10\" >Mode(众数)</th> \n",
       "        <td id=\"T_a873069a_197b_11e9_9e60_54e1ad990481row10_col0\" class=\"data row10 col0\" >ADOA</td> \n",
       "        <td id=\"T_a873069a_197b_11e9_9e60_54e1ad990481row10_col1\" class=\"data row10 col1\" >ADOA</td> \n",
       "        <td id=\"T_a873069a_197b_11e9_9e60_54e1ad990481row10_col2\" class=\"data row10 col2\" >ADOA</td> \n",
       "        <td id=\"T_a873069a_197b_11e9_9e60_54e1ad990481row10_col3\" class=\"data row10 col3\" >ADOA</td> \n",
       "        <td id=\"T_a873069a_197b_11e9_9e60_54e1ad990481row10_col4\" class=\"data row10 col4\" >PUL CostSensitive</td> \n",
       "    </tr></tbody> \n",
       "</table> "
      ],
      "text/plain": [
       "<pandas.io.formats.style.Styler at 0x28f88383ac8>"
      ]
     },
     "execution_count": 11,
     "metadata": {},
     "output_type": "execute_result"
    }
   ],
   "source": [
    "if len(mode) == 1:\n",
    "    sorted_algo.loc['Mode(众数)'] = mode.values.ravel()\n",
    "else:\n",
    "    sorted_algo.loc['Mode(众数)'] = revise_mode(mode)\n",
    "    \n",
    "metrics = ['AUC', 'F1_Score', 'G_Mean', 'Recall', 'ACC']\n",
    "sorted_algo.columns = metrics\n",
    "\n",
    "def show(row):\n",
    "    color = 'yellow'\n",
    "    return 'background-color: %s' % color\n",
    "sorted_algo.style.applymap(show, subset=pd.IndexSlice['Mode(众数)':, :])"
   ]
  }
 ],
 "metadata": {
  "kernelspec": {
   "display_name": "Python 3",
   "language": "python",
   "name": "python3"
  },
  "language_info": {
   "codemirror_mode": {
    "name": "ipython",
    "version": 3
   },
   "file_extension": ".py",
   "mimetype": "text/x-python",
   "name": "python",
   "nbconvert_exporter": "python",
   "pygments_lexer": "ipython3",
   "version": "3.7.1"
  }
 },
 "nbformat": 4,
 "nbformat_minor": 2
}
